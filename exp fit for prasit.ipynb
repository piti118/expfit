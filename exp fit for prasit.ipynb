{
 "cells": [
  {
   "cell_type": "code",
   "execution_count": 1,
   "metadata": {
    "ExecuteTime": {
     "end_time": "2020-09-28T04:59:35.333983Z",
     "start_time": "2020-09-28T04:59:34.855962Z"
    }
   },
   "outputs": [],
   "source": [
    "import numpy as np\n",
    "\n",
    "from scipy.optimize import curve_fit\n",
    "from matplotlib import pyplot as plt\n"
   ]
  },
  {
   "cell_type": "code",
   "execution_count": 2,
   "metadata": {
    "ExecuteTime": {
     "end_time": "2020-09-28T04:59:35.340984Z",
     "start_time": "2020-09-28T04:59:35.335985Z"
    }
   },
   "outputs": [],
   "source": [
    "def exp_fit(xs, ys): # assume positive a\n",
    "    clean_xs = xs[ys > 0]\n",
    "    clean_ys = ys[ys > 0]\n",
    "    p = np.polyfit(clean_xs, np.log(clean_ys), 1)\n",
    "    print(p)\n",
    "    b, log_a = p\n",
    "    a = np.exp(log_a)\n",
    "    \n",
    "    def func(x, a, b):\n",
    "        return a*np.exp(b*x)\n",
    "    res, _ = curve_fit(func, xs, ys, p0=[a,b])\n",
    "    cf_a, cf_b = res\n",
    "    return cf_a, cf_b\n"
   ]
  },
  {
   "cell_type": "code",
   "execution_count": 3,
   "metadata": {
    "ExecuteTime": {
     "end_time": "2020-09-28T04:59:35.670048Z",
     "start_time": "2020-09-28T04:59:35.558241Z"
    }
   },
   "outputs": [
    {
     "name": "stdout",
     "output_type": "stream",
     "text": [
      "[-3.04381922  4.7310784 ]\n"
     ]
    },
    {
     "data": {
      "text/plain": [
       "[<matplotlib.lines.Line2D at 0x1c92360f1c8>]"
      ]
     },
     "execution_count": 3,
     "metadata": {},
     "output_type": "execute_result"
    },
    {
     "data": {
      "image/png": "[encoded data removed]",
      "text/plain": [
       "<Figure size 432x288 with 1 Axes>"
      ]
     },
     "metadata": {
      "needs_background": "light"
     },
     "output_type": "display_data"
    }
   ],
   "source": [
    "xs = np.linspace(2,5, 100)\n",
    "a = 100\n",
    "b = -3\n",
    "ys = a*np.exp(b*xs) + np.random.randn(100)*1e-4\n",
    "plt.plot(xs, ys, '.')\n",
    "\n",
    "a, b = exp_fit(xs, ys)\n",
    "\n",
    "plt.plot(xs, a*np.exp(b*xs))\n",
    "plt.plot(xs, ys)"
   ]
  },
  {
   "cell_type": "code",
   "execution_count": null,
   "metadata": {},
   "outputs": [],
   "source": []
  },
  {
   "cell_type": "code",
   "execution_count": null,
   "metadata": {},
   "outputs": [],
   "source": []
  }
 ],
 "metadata": {
  "kernelspec": {
   "display_name": "Python 3",
   "language": "python",
   "name": "python3"
  },
  "language_info": {
   "codemirror_mode": {
    "name": "ipython",
    "version": 3
   },
   "file_extension": ".py",
   "mimetype": "text/x-python",
   "name": "python",
   "nbconvert_exporter": "python",
   "pygments_lexer": "ipython3",
   "version": "3.7.5"
  },
  "toc": {
   "base_numbering": 1,
   "nav_menu": {},
   "number_sections": true,
   "sideBar": true,
   "skip_h1_title": false,
   "title_cell": "Table of Contents",
   "title_sidebar": "Contents",
   "toc_cell": false,
   "toc_position": {},
   "toc_section_display": true,
   "toc_window_display": true
  }
 },
 "nbformat": 4,
 "nbformat_minor": 4
}
