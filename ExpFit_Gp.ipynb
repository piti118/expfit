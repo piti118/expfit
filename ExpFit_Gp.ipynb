{
 "cells": [
  {
   "cell_type": "code",
   "execution_count": 1,
   "metadata": {},
   "outputs": [],
   "source": [
    "import numpy as np\n",
    "\n",
    "from scipy.optimize import curve_fit\n",
    "from matplotlib import pyplot as plt"
   ]
  },
  {
   "cell_type": "code",
   "execution_count": 2,
   "metadata": {},
   "outputs": [],
   "source": [
    "def ExpFit_Gp(xs, ys, Gp):\n",
    "    \"\"\"\n",
    "        Objective: fit select points (xs, ys) into exponential trend ( y = e^(b(x - Gp)) + d )\n",
    "\n",
    "        Input: \n",
    "        1. xs: list of x-value of selected points\n",
    "        2. ys: list of y-value of selected points\n",
    "        3. Gp: cumulative gas production in mmscf unit\n",
    "\n",
    "        Return: CGRi (e^d) as first variable, mCGR (b) as second variable\n",
    "    \"\"\"\n",
    "    clean_xs = [xs[i] for i in range(len(xs)) if ys[i] > 0]\n",
    "    clean_ys = [ys[i] for i in range(len(ys)) if ys[i] > 0]\n",
    "\n",
    "    p = np.polyfit(clean_xs, np.log(clean_ys), 1)\n",
    "    b, log_a = p\n",
    "    d = log_a + b * Gp\n",
    "    \n",
    "    def func(x, b, d):\n",
    "        return np.exp(b * (x - Gp) + d)\n",
    "\n",
    "    res, _ = curve_fit(func, xs, ys, p0=[b,d])\n",
    "    cf_b, cf_d = res\n",
    "\n",
    "    return np.exp(cf_d), cf_b"
   ]
  },
  {
   "cell_type": "code",
   "execution_count": 3,
   "metadata": {},
   "outputs": [],
   "source": [
    "#Sanity Test\n",
    "xs = np.linspace(2, 5, 10)\n",
    "a = 100\n",
    "b = -3\n",
    "ys = a*np.exp(b*xs) + np.random.randn(10)*1e-4"
   ]
  },
  {
   "cell_type": "code",
   "execution_count": 4,
   "metadata": {},
   "outputs": [
    {
     "name": "stdout",
     "output_type": "stream",
     "text": [
      "a = 99.64819837953539\n",
      "b = -2.998676016991109\n"
     ]
    },
    {
     "data": {
      "text/plain": [
       "<matplotlib.legend.Legend at 0x22035a16c48>"
      ]
     },
     "execution_count": 4,
     "metadata": {},
     "output_type": "execute_result"
    },
    {
     "data": {
      "image/png": "[encoded data removed]",
      "text/plain": [
       "<Figure size 432x288 with 1 Axes>"
      ]
     },
     "metadata": {
      "needs_background": "light"
     },
     "output_type": "display_data"
    }
   ],
   "source": [
    "a, b = ExpFit_Gp(xs, ys, 0)\n",
    "print('a = ' + str(a))\n",
    "print('b = ' + str(b))\n",
    "\n",
    "plt.plot(xs, a * np.exp(b * xs), 'r--', label = 'fitted line')\n",
    "plt.plot(xs, ys, 'bo', label = 'actual data')\n",
    "plt.legend()"
   ]
  },
  {
   "cell_type": "code",
   "execution_count": 5,
   "metadata": {},
   "outputs": [
    {
     "name": "stdout",
     "output_type": "stream",
     "text": [
      "cgri = 86.88926725576329\n",
      "mcgr = 0.023825975168708304\n"
     ]
    }
   ],
   "source": [
    "##Test Case 7\n",
    "xs = [16252.1352620242, 16253.8828363968, 16255.6363066906, 16257.3714131312]\n",
    "ys = [18.2696907349998, 19.1176855152631, 18.7541902476911, 21.0299499007001]\n",
    "Gp = 16.3179645947676 * 1000\n",
    "\n",
    "cgri, mcgr = ExpFit_Gp(xs, ys, Gp)\n",
    "print('cgri = ' + str(cgri))\n",
    "print('mcgr = ' + str(mcgr))"
   ]
  },
  {
   "cell_type": "code",
   "execution_count": 6,
   "metadata": {},
   "outputs": [
    {
     "data": {
      "image/png": "[encoded data removed]",
      "text/plain": [
       "<Figure size 432x288 with 1 Axes>"
      ]
     },
     "metadata": {
      "needs_background": "light"
     },
     "output_type": "display_data"
    }
   ],
   "source": [
    "ys_fit = np.exp([mcgr * (i - Gp) + np.log(cgri) for i in xs])\n",
    "plt.plot(xs, ys_fit, 'r--', label = 'fitted line')\n",
    "plt.plot(xs, ys, 'bo', label = 'actual data')\n",
    "plt.legend()\n",
    "plt.show()"
   ]
  }
 ],
 "metadata": {
  "kernelspec": {
   "display_name": "Python 3",
   "language": "python",
   "name": "python3"
  },
  "language_info": {
   "codemirror_mode": {
    "name": "ipython",
    "version": 3
   },
   "file_extension": ".py",
   "mimetype": "text/x-python",
   "name": "python",
   "nbconvert_exporter": "python",
   "pygments_lexer": "ipython3",
   "version": "3.7.6"
  }
 },
 "nbformat": 4,
 "nbformat_minor": 4
}
