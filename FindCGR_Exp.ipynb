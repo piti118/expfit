{
 "cells": [
  {
   "cell_type": "code",
   "execution_count": 1,
   "metadata": {},
   "outputs": [],
   "source": [
    "import numpy as np"
   ]
  },
  {
   "cell_type": "code",
   "execution_count": 2,
   "metadata": {},
   "outputs": [],
   "source": [
    "def FindCGR_Exp(G, CGRi, mCGR, Gp):\n",
    "    \"\"\"\n",
    "        Objective: Calculate CGR at cumulative gas production = G from exponential fitted trend (ExpFit_Gp)\n",
    "\n",
    "    Input:\n",
    "    1. CGRi = CGR parameter of CGR/cumCGR trend at Gp (bbl/mmscf)            , a float\n",
    "        --CGRi is CGR at cumulative gas production = Gp of fitted trend\n",
    "    2. mCGR = mCGR parameter of CGR/cumCGR trend (bbl/mmscf^2)        , a float\n",
    "        --mCGR indicated slope/growth of CGR fitted trend\n",
    "    3. Gp = Cumulative gas production (mmscf)                              , a positive float\n",
    "\n",
    "    Return:\n",
    "    CGR = CGRi parameter of CGR/cumCGR trend (bbl/mmscf)                , a float\n",
    "        --CGRi is CGR from fitted trend at Gp\n",
    "    \"\"\"\n",
    "    # y = CGRi * e ^ (mCGR * (G - Gp))\n",
    "    return CGRi * np.exp(mCGR * (G - Gp))"
   ]
  },
  {
   "cell_type": "code",
   "execution_count": 3,
   "metadata": {},
   "outputs": [
    {
     "name": "stdout",
     "output_type": "stream",
     "text": [
      "cgr @16200 from cf = 5.288803759880317\n",
      "cgr @16200 from linear fit = 5.454\n"
     ]
    }
   ],
   "source": [
    "#Test Case 7\n",
    "g = 16200\n",
    "cgrn = FindCGR_Exp(g, 85.90400391730694, 0.023631144215961172, 16.3179645947676 * 1000)\n",
    "print('cgr @' + str(g) + ' from cf = ' + str(cgrn))\n",
    "print('cgr @' + str(g) + ' from linear fit = ' + '5.454')"
   ]
  }
 ],
 "metadata": {
  "kernelspec": {
   "display_name": "Python 3",
   "language": "python",
   "name": "python3"
  },
  "language_info": {
   "codemirror_mode": {
    "name": "ipython",
    "version": 3
   },
   "file_extension": ".py",
   "mimetype": "text/x-python",
   "name": "python",
   "nbconvert_exporter": "python",
   "pygments_lexer": "ipython3",
   "version": "3.7.6"
  }
 },
 "nbformat": 4,
 "nbformat_minor": 4
}
